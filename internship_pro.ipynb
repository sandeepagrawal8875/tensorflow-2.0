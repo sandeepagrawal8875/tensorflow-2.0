{
  "nbformat": 4,
  "nbformat_minor": 0,
  "metadata": {
    "colab": {
      "name": "internship_pro.ipynb",
      "provenance": [],
      "collapsed_sections": [],
      "authorship_tag": "ABX9TyPW+e9KytdO/FC7ojZEpY+U",
      "include_colab_link": true
    },
    "kernelspec": {
      "name": "python3",
      "display_name": "Python 3"
    },
    "language_info": {
      "name": "python"
    }
  },
  "cells": [
    {
      "cell_type": "markdown",
      "metadata": {
        "id": "view-in-github",
        "colab_type": "text"
      },
      "source": [
        "<a href=\"https://colab.research.google.com/github/sandeepagrawal8875/tensorflow-2.0/blob/main/internship_pro.ipynb\" target=\"_parent\"><img src=\"https://colab.research.google.com/assets/colab-badge.svg\" alt=\"Open In Colab\"/></a>"
      ]
    },
    {
      "cell_type": "code",
      "metadata": {
        "id": "Mw_e7ln_XF0a"
      },
      "source": [
        "import pandas as pd\n",
        "from google.colab import files"
      ],
      "execution_count": 1,
      "outputs": []
    },
    {
      "cell_type": "code",
      "metadata": {
        "id": "foitBnc7XO4F"
      },
      "source": [
        "file_ = files.upload()"
      ],
      "execution_count": null,
      "outputs": []
    },
    {
      "cell_type": "code",
      "metadata": {
        "id": "en7jwpFzz5br"
      },
      "source": [
        "df = pd.read_csv(\"school_data.csv\")"
      ],
      "execution_count": 3,
      "outputs": []
    },
    {
      "cell_type": "code",
      "metadata": {
        "id": "GkVDfJ6jESKd"
      },
      "source": [
        "def func(x):\n",
        "    return x[\"tempcol1\"]+x[\"tempcol2\"]\n",
        "\n",
        "def strToList1(x):\n",
        "    return x[\"school_facilites\"][1:-1].replace(\"'\", \"\").split(\",\")\n",
        "\n",
        "def strToList2(x):\n",
        "    return x[\"school_un_facilites\"][1:-1].replace(\"'\", \"\").split(\",\")\n",
        "\n",
        "\n",
        "df['tempcol1'] = df[['school_facilites']].apply(strToList1, axis=1)\n",
        "df['tempcol2'] = df[['school_un_facilites']].apply(strToList2, axis=1)\n",
        "df['all_facilites'] = df[['tempcol1','tempcol2']].apply(func, axis=1)\n"
      ],
      "execution_count": 4,
      "outputs": []
    },
    {
      "cell_type": "code",
      "metadata": {
        "id": "eq8xfoznFJkD"
      },
      "source": [
        "df.head()"
      ],
      "execution_count": null,
      "outputs": []
    },
    {
      "cell_type": "code",
      "metadata": {
        "id": "yorJbZatCEeY"
      },
      "source": [
        "cols = df['all_facilites'].explode().unique()\n",
        "\n",
        "for col in cols:\n",
        "    for ind, row in df.iterrows():\n",
        "        if col in row[15]:\n",
        "            df.loc[ind, col] = 1\n",
        "        elif col in row[16]:  # use 'else' if the missing data is also 0\n",
        "            df.loc[ind, col] = 0"
      ],
      "execution_count": 7,
      "outputs": []
    },
    {
      "cell_type": "code",
      "metadata": {
        "id": "wVjAHCa6CF8S"
      },
      "source": [
        "df = df.convert_dtypes()"
      ],
      "execution_count": 8,
      "outputs": []
    },
    {
      "cell_type": "code",
      "metadata": {
        "id": "pEIjLMjbDKMx"
      },
      "source": [
        "del df[\"tempcol1\"]\n",
        "del df[\"tempcol2\"]\n",
        "del df[\"all_facilites\"]"
      ],
      "execution_count": 10,
      "outputs": []
    },
    {
      "cell_type": "code",
      "metadata": {
        "id": "HJb0Wqk-F9s2"
      },
      "source": [
        "df.to_csv('jdmr_data.csv')\n",
        "files.download('jdmr_data.csv')"
      ],
      "execution_count": null,
      "outputs": []
    }
  ]
}